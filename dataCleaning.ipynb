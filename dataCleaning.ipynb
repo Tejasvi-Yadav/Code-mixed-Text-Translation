{
 "cells": [
  {
   "cell_type": "code",
   "id": "initial_id",
   "metadata": {
    "collapsed": true,
    "ExecuteTime": {
     "end_time": "2024-08-04T19:55:46.041555Z",
     "start_time": "2024-08-04T19:55:42.675069Z"
    }
   },
   "source": "import pandas as pd",
   "outputs": [],
   "execution_count": 1
  },
  {
   "metadata": {
    "ExecuteTime": {
     "end_time": "2024-08-04T19:55:46.047470Z",
     "start_time": "2024-08-04T19:55:46.042556Z"
    }
   },
   "cell_type": "code",
   "source": "import re",
   "id": "e4873e20ff8a8fea",
   "outputs": [],
   "execution_count": 2
  },
  {
   "metadata": {
    "ExecuteTime": {
     "end_time": "2024-08-04T19:55:46.603417Z",
     "start_time": "2024-08-04T19:55:46.048477Z"
    }
   },
   "cell_type": "code",
   "source": [
    "from indic_transliteration import sanscript\n",
    "from indic_transliteration.sanscript import transliterate"
   ],
   "id": "5878d4813815ce41",
   "outputs": [],
   "execution_count": 3
  },
  {
   "metadata": {
    "ExecuteTime": {
     "end_time": "2024-08-04T19:55:48.039631Z",
     "start_time": "2024-08-04T19:55:46.604420Z"
    }
   },
   "cell_type": "code",
   "source": "from nltk.tokenize import word_tokenize",
   "id": "af5b7f1c7351491b",
   "outputs": [],
   "execution_count": 4
  },
  {
   "metadata": {
    "ExecuteTime": {
     "end_time": "2024-08-04T19:58:52.694160Z",
     "start_time": "2024-08-04T19:55:48.040644Z"
    }
   },
   "cell_type": "code",
   "source": [
    "# Load model directly\n",
    "from transformers import AutoTokenizer, AutoModelForTokenClassification\n",
    "\n",
    "tokenizer = AutoTokenizer.from_pretrained(\"l3cube-pune/me-lid-bert\")\n",
    "model = AutoModelForTokenClassification.from_pretrained(\"l3cube-pune/me-lid-bert\")"
   ],
   "id": "3b842a014041a7a7",
   "outputs": [
    {
     "data": {
      "text/plain": [
       "config.json:   0%|          | 0.00/822 [00:00<?, ?B/s]"
      ],
      "application/vnd.jupyter.widget-view+json": {
       "version_major": 2,
       "version_minor": 0,
       "model_id": "7eba56d05e564d639e6e37b9652b4e66"
      }
     },
     "metadata": {},
     "output_type": "display_data"
    },
    {
     "name": "stderr",
     "output_type": "stream",
     "text": [
      "D:\\Mr\\venv\\Lib\\site-packages\\huggingface_hub\\file_download.py:159: UserWarning: `huggingface_hub` cache-system uses symlinks by default to efficiently store duplicated files but your machine does not support them in C:\\Users\\kunal\\.cache\\huggingface\\hub\\models--l3cube-pune--me-lid-bert. Caching files will still work but in a degraded version that might require more space on your disk. This warning can be disabled by setting the `HF_HUB_DISABLE_SYMLINKS_WARNING` environment variable. For more details, see https://huggingface.co/docs/huggingface_hub/how-to-cache#limitations.\n",
      "To support symlinks on Windows, you either need to activate Developer Mode or to run Python as an administrator. In order to see activate developer mode, see this article: https://docs.microsoft.com/en-us/windows/apps/get-started/enable-your-device-for-development\n",
      "  warnings.warn(message)\n"
     ]
    },
    {
     "data": {
      "text/plain": [
       "model.safetensors:   0%|          | 0.00/948M [00:00<?, ?B/s]"
      ],
      "application/vnd.jupyter.widget-view+json": {
       "version_major": 2,
       "version_minor": 0,
       "model_id": "37fc31c10a64480e8cb4f1faa0c1a255"
      }
     },
     "metadata": {},
     "output_type": "display_data"
    }
   ],
   "execution_count": 5
  },
  {
   "metadata": {
    "ExecuteTime": {
     "end_time": "2024-08-04T19:59:04.657481Z",
     "start_time": "2024-08-04T19:59:04.505129Z"
    }
   },
   "cell_type": "code",
   "source": "df = pd.read_csv('MeRoman_500.csv')",
   "id": "7bacf86c22028616",
   "outputs": [],
   "execution_count": 6
  },
  {
   "metadata": {
    "ExecuteTime": {
     "end_time": "2024-08-04T19:59:05.209748Z",
     "start_time": "2024-08-04T19:59:05.195069Z"
    }
   },
   "cell_type": "code",
   "source": "df",
   "id": "237f6378f3e91647",
   "outputs": [
    {
     "data": {
      "text/plain": [
       "                                                  text\n",
       "0    @USER Barfi be like - nigh lavkar, I need to s...\n",
       "1                             Kakaebabe shakto buh?lol\n",
       "2    tu khup ghoshti chiglun nehtes.... Tuja jaag v...\n",
       "3    @USER sir tumhala asa vatat nahi ka ki Sanjay ...\n",
       "4    Jevha khahi pramanat rugna hoote tevha school ...\n",
       "..                                                 ...\n",
       "495  @USER tumchya prarthnela nakki yash yeil yachi...\n",
       "496  tumhi chalu dya tumcha tumcha. Me Anna Hazare ...\n",
       "497  @USER @USER Amhala Tumhich ch Home minister mh...\n",
       "498  @USER @USER @USER saheb mag tasa tax Central G...\n",
       "499  @USER tv9 news wale kuth ahe.......Apla msg sa...\n",
       "\n",
       "[500 rows x 1 columns]"
      ],
      "text/html": [
       "<div>\n",
       "<style scoped>\n",
       "    .dataframe tbody tr th:only-of-type {\n",
       "        vertical-align: middle;\n",
       "    }\n",
       "\n",
       "    .dataframe tbody tr th {\n",
       "        vertical-align: top;\n",
       "    }\n",
       "\n",
       "    .dataframe thead th {\n",
       "        text-align: right;\n",
       "    }\n",
       "</style>\n",
       "<table border=\"1\" class=\"dataframe\">\n",
       "  <thead>\n",
       "    <tr style=\"text-align: right;\">\n",
       "      <th></th>\n",
       "      <th>text</th>\n",
       "    </tr>\n",
       "  </thead>\n",
       "  <tbody>\n",
       "    <tr>\n",
       "      <th>0</th>\n",
       "      <td>@USER Barfi be like - nigh lavkar, I need to s...</td>\n",
       "    </tr>\n",
       "    <tr>\n",
       "      <th>1</th>\n",
       "      <td>Kakaebabe shakto buh?lol</td>\n",
       "    </tr>\n",
       "    <tr>\n",
       "      <th>2</th>\n",
       "      <td>tu khup ghoshti chiglun nehtes.... Tuja jaag v...</td>\n",
       "    </tr>\n",
       "    <tr>\n",
       "      <th>3</th>\n",
       "      <td>@USER sir tumhala asa vatat nahi ka ki Sanjay ...</td>\n",
       "    </tr>\n",
       "    <tr>\n",
       "      <th>4</th>\n",
       "      <td>Jevha khahi pramanat rugna hoote tevha school ...</td>\n",
       "    </tr>\n",
       "    <tr>\n",
       "      <th>...</th>\n",
       "      <td>...</td>\n",
       "    </tr>\n",
       "    <tr>\n",
       "      <th>495</th>\n",
       "      <td>@USER tumchya prarthnela nakki yash yeil yachi...</td>\n",
       "    </tr>\n",
       "    <tr>\n",
       "      <th>496</th>\n",
       "      <td>tumhi chalu dya tumcha tumcha. Me Anna Hazare ...</td>\n",
       "    </tr>\n",
       "    <tr>\n",
       "      <th>497</th>\n",
       "      <td>@USER @USER Amhala Tumhich ch Home minister mh...</td>\n",
       "    </tr>\n",
       "    <tr>\n",
       "      <th>498</th>\n",
       "      <td>@USER @USER @USER saheb mag tasa tax Central G...</td>\n",
       "    </tr>\n",
       "    <tr>\n",
       "      <th>499</th>\n",
       "      <td>@USER tv9 news wale kuth ahe.......Apla msg sa...</td>\n",
       "    </tr>\n",
       "  </tbody>\n",
       "</table>\n",
       "<p>500 rows × 1 columns</p>\n",
       "</div>"
      ]
     },
     "execution_count": 7,
     "metadata": {},
     "output_type": "execute_result"
    }
   ],
   "execution_count": 7
  },
  {
   "metadata": {
    "ExecuteTime": {
     "end_time": "2024-08-04T19:59:07.762090Z",
     "start_time": "2024-08-04T19:59:07.758591Z"
    }
   },
   "cell_type": "code",
   "source": "X = df['text']",
   "id": "d69f36fdd79b2910",
   "outputs": [],
   "execution_count": 8
  },
  {
   "metadata": {
    "ExecuteTime": {
     "end_time": "2024-08-04T19:59:08.241652Z",
     "start_time": "2024-08-04T19:59:08.232930Z"
    }
   },
   "cell_type": "code",
   "source": "X",
   "id": "849870032d26568b",
   "outputs": [
    {
     "data": {
      "text/plain": [
       "0      @USER Barfi be like - nigh lavkar, I need to s...\n",
       "1                               Kakaebabe shakto buh?lol\n",
       "2      tu khup ghoshti chiglun nehtes.... Tuja jaag v...\n",
       "3      @USER sir tumhala asa vatat nahi ka ki Sanjay ...\n",
       "4      Jevha khahi pramanat rugna hoote tevha school ...\n",
       "                             ...                        \n",
       "495    @USER tumchya prarthnela nakki yash yeil yachi...\n",
       "496    tumhi chalu dya tumcha tumcha. Me Anna Hazare ...\n",
       "497    @USER @USER Amhala Tumhich ch Home minister mh...\n",
       "498    @USER @USER @USER saheb mag tasa tax Central G...\n",
       "499    @USER tv9 news wale kuth ahe.......Apla msg sa...\n",
       "Name: text, Length: 500, dtype: object"
      ]
     },
     "execution_count": 9,
     "metadata": {},
     "output_type": "execute_result"
    }
   ],
   "execution_count": 9
  },
  {
   "metadata": {
    "ExecuteTime": {
     "end_time": "2024-08-04T19:59:09.680740Z",
     "start_time": "2024-08-04T19:59:09.674999Z"
    }
   },
   "cell_type": "code",
   "source": [
    "def process_text(text):\n",
    "    tokens = re.sub(r'(?:@USER)', '', text)\n",
    "    tokens = [token for token in word_tokenize(tokens) if token.isalnum()]\n",
    "    tokens = \" \".join(tokens)\n",
    "    \n",
    "    tokens = transliterate(tokens,sanscript.ITRANS,sanscript.DEVANAGARI)\n",
    "    return tokens"
   ],
   "id": "162f17f5e963b455",
   "outputs": [],
   "execution_count": 10
  },
  {
   "metadata": {
    "ExecuteTime": {
     "end_time": "2024-08-04T19:59:11.070795Z",
     "start_time": "2024-08-04T19:59:11.061133Z"
    }
   },
   "cell_type": "code",
   "source": "# [\"My\", \"Name\", \"is\", \"Kunal\"]",
   "id": "3bba1291f156ca7f",
   "outputs": [],
   "execution_count": 11
  },
  {
   "metadata": {
    "ExecuteTime": {
     "end_time": "2024-08-04T19:59:11.855052Z",
     "start_time": "2024-08-04T19:59:11.603305Z"
    }
   },
   "cell_type": "code",
   "source": "cleaned = X.apply(process_text)",
   "id": "fb300a08a112b5e4",
   "outputs": [],
   "execution_count": 12
  },
  {
   "metadata": {
    "ExecuteTime": {
     "end_time": "2024-08-04T19:59:12.000388Z",
     "start_time": "2024-08-04T19:59:11.992974Z"
    }
   },
   "cell_type": "code",
   "source": "cleaned",
   "id": "334fbc83a39446fb",
   "outputs": [
    {
     "data": {
      "text/plain": [
       "0      Bअर्फ़ि बे लिके निघ् लव्कर् ई नीद् तो शिफ़्त् ओन...\n",
       "1                                 ख़कएबबे शक्तो बुह् लोल्\n",
       "2      तु खुप् घोश्ति चिग्लुन् नेह्तेस् टुज जाग् वेग्...\n",
       "3      सिर् तुम्हल अस वतत् नहि क कि षन्जय् नवतच् मुलत...\n",
       "4      ज़ेव्ह खहि प्रमनत् रुग्न हूते तेव्ह स्चूल् अम्प...\n",
       "                             ...                        \n",
       "495    तुम्च्य प्रर्थ्नेल नक्कि यश् येइल् यचि खत्रि अ...\n",
       "496    तुम्हि चलु द्य तुम्च तुम्च ंए आन्न ःअज़रे बोल्तोय्\n",
       "497    आम्हल टुम्हिच् च् ःओमे मिनिस्तेर् म्हनुन् हवेत...\n",
       "498    सहेब् मग् तस तक्ष् छेन्त्रल् ग़ोवेर्न्मेन्त् ल ...\n",
       "499    त्व्९ नेव्स् वले कुथ् अहे आप्ल म्स्ग् सर्कर् प...\n",
       "Name: text, Length: 500, dtype: object"
      ]
     },
     "execution_count": 13,
     "metadata": {},
     "output_type": "execute_result"
    }
   ],
   "execution_count": 13
  },
  {
   "metadata": {
    "ExecuteTime": {
     "end_time": "2024-08-04T19:59:15.084228Z",
     "start_time": "2024-08-04T19:59:15.077298Z"
    }
   },
   "cell_type": "code",
   "source": "df['text']",
   "id": "9a38d66a90e9af5f",
   "outputs": [
    {
     "data": {
      "text/plain": [
       "0      @USER Barfi be like - nigh lavkar, I need to s...\n",
       "1                               Kakaebabe shakto buh?lol\n",
       "2      tu khup ghoshti chiglun nehtes.... Tuja jaag v...\n",
       "3      @USER sir tumhala asa vatat nahi ka ki Sanjay ...\n",
       "4      Jevha khahi pramanat rugna hoote tevha school ...\n",
       "                             ...                        \n",
       "495    @USER tumchya prarthnela nakki yash yeil yachi...\n",
       "496    tumhi chalu dya tumcha tumcha. Me Anna Hazare ...\n",
       "497    @USER @USER Amhala Tumhich ch Home minister mh...\n",
       "498    @USER @USER @USER saheb mag tasa tax Central G...\n",
       "499    @USER tv9 news wale kuth ahe.......Apla msg sa...\n",
       "Name: text, Length: 500, dtype: object"
      ]
     },
     "execution_count": 14,
     "metadata": {},
     "output_type": "execute_result"
    }
   ],
   "execution_count": 14
  },
  {
   "metadata": {
    "ExecuteTime": {
     "end_time": "2024-08-04T20:21:25.306236Z",
     "start_time": "2024-08-04T20:21:25.298502Z"
    }
   },
   "cell_type": "code",
   "source": "df['text'][7]",
   "id": "3794b8273222c87a",
   "outputs": [
    {
     "data": {
      "text/plain": [
       "'@USER Devendraji Police station la jaun polisanchi ijjat ghetil tyamule open ijjat Janya peksha devendrajimchya ghari char bhinti madhe apali ijjat ghalavatil police '"
      ]
     },
     "execution_count": 24,
     "metadata": {},
     "output_type": "execute_result"
    }
   ],
   "execution_count": 24
  },
  {
   "metadata": {
    "ExecuteTime": {
     "end_time": "2024-08-04T20:13:20.665511Z",
     "start_time": "2024-08-04T20:13:20.457355Z"
    }
   },
   "cell_type": "code",
   "source": [
    "import torch\n",
    "\n",
    "# Tokenize input text\n",
    "inputs = tokenizer(df['text'][7], return_tensors=\"pt\", padding=True, truncation=True)\n",
    "token = word_tokenize(df['text'][7])\n",
    "\n",
    "# Get model outputs\n",
    "with torch.no_grad():\n",
    "    outputs = model(**inputs)\n",
    "logits = outputs.logits\n",
    "\n",
    "# Convert logits to predictions\n",
    "predictions = torch.argmax(logits, dim=-1)\n",
    "\n",
    "# Map predictions to labels\n",
    "labels = [\"Marathi\", \"English\", \"Other\"]  # Replace with your actual labels\n",
    "predicted_labels = [labels[pred] for pred in predictions[0].tolist()]\n",
    "\n",
    "for i in range(len(predicted_labels)):\n",
    "    print(f'{token[i]}: {predicted_labels[i]}')"
   ],
   "id": "4766bc87a3025d1",
   "outputs": [
    {
     "name": "stdout",
     "output_type": "stream",
     "text": [
      "@: Other\n",
      "USER: Other\n",
      "Devendraji: Other\n",
      "Police: Other\n",
      "station: Other\n",
      "la: Marathi\n",
      "jaun: English\n",
      "polisanchi: English\n",
      "ijjat: Marathi\n",
      "ghetil: Marathi\n",
      "tyamule: Marathi\n",
      "open: Marathi\n",
      "ijjat: Marathi\n",
      "Janya: Marathi\n",
      "peksha: Marathi\n",
      "devendrajimchya: Marathi\n",
      "ghari: Marathi\n",
      "char: Marathi\n",
      "bhinti: Marathi\n",
      "madhe: English\n",
      "apali: Marathi\n",
      "ijjat: Marathi\n",
      "ghalavatil: Marathi\n",
      "police: Marathi\n"
     ]
    },
    {
     "ename": "IndexError",
     "evalue": "list index out of range",
     "output_type": "error",
     "traceback": [
      "\u001B[1;31m---------------------------------------------------------------------------\u001B[0m",
      "\u001B[1;31mIndexError\u001B[0m                                Traceback (most recent call last)",
      "Cell \u001B[1;32mIn[23], line 20\u001B[0m\n\u001B[0;32m     17\u001B[0m predicted_labels \u001B[38;5;241m=\u001B[39m [labels[pred] \u001B[38;5;28;01mfor\u001B[39;00m pred \u001B[38;5;129;01min\u001B[39;00m predictions[\u001B[38;5;241m0\u001B[39m]\u001B[38;5;241m.\u001B[39mtolist()]\n\u001B[0;32m     19\u001B[0m \u001B[38;5;28;01mfor\u001B[39;00m i \u001B[38;5;129;01min\u001B[39;00m \u001B[38;5;28mrange\u001B[39m(\u001B[38;5;28mlen\u001B[39m(predicted_labels)):\n\u001B[1;32m---> 20\u001B[0m     \u001B[38;5;28mprint\u001B[39m(\u001B[38;5;124mf\u001B[39m\u001B[38;5;124m'\u001B[39m\u001B[38;5;132;01m{\u001B[39;00m\u001B[43mtoken\u001B[49m\u001B[43m[\u001B[49m\u001B[43mi\u001B[49m\u001B[43m]\u001B[49m\u001B[38;5;132;01m}\u001B[39;00m\u001B[38;5;124m: \u001B[39m\u001B[38;5;132;01m{\u001B[39;00mpredicted_labels[i]\u001B[38;5;132;01m}\u001B[39;00m\u001B[38;5;124m'\u001B[39m)\n",
      "\u001B[1;31mIndexError\u001B[0m: list index out of range"
     ]
    }
   ],
   "execution_count": 23
  },
  {
   "metadata": {
    "ExecuteTime": {
     "end_time": "2024-08-04T20:03:11.526770Z",
     "start_time": "2024-08-04T20:03:11.199386Z"
    }
   },
   "cell_type": "code",
   "source": [
    "from transformers import AutoConfig\n",
    "\n",
    "config = AutoConfig.from_pretrained(\"l3cube-pune/me-lid-bert\")\n",
    "\n",
    "# Print the configuration\n",
    "print(config)"
   ],
   "id": "a2452f137d920b89",
   "outputs": [
    {
     "name": "stdout",
     "output_type": "stream",
     "text": [
      "BertConfig {\n",
      "  \"_name_or_path\": \"l3cube-pune/me-lid-bert\",\n",
      "  \"architectures\": [\n",
      "    \"BertForTokenClassification\"\n",
      "  ],\n",
      "  \"attention_probs_dropout_prob\": 0.1,\n",
      "  \"classifier_dropout\": null,\n",
      "  \"embedding_size\": 768,\n",
      "  \"hidden_act\": \"gelu\",\n",
      "  \"hidden_dropout_prob\": 0.1,\n",
      "  \"hidden_size\": 768,\n",
      "  \"id2label\": {\n",
      "    \"0\": \"Marathi\",\n",
      "    \"1\": \"English\",\n",
      "    \"2\": \"Other\"\n",
      "  },\n",
      "  \"initializer_range\": 0.02,\n",
      "  \"intermediate_size\": 3072,\n",
      "  \"label2id\": {\n",
      "    \"English\": 1,\n",
      "    \"Marathi\": 0,\n",
      "    \"Other\": 2\n",
      "  },\n",
      "  \"layer_norm_eps\": 1e-12,\n",
      "  \"max_position_embeddings\": 512,\n",
      "  \"model_type\": \"bert\",\n",
      "  \"num_attention_heads\": 12,\n",
      "  \"num_hidden_layers\": 12,\n",
      "  \"pad_token_id\": 0,\n",
      "  \"position_embedding_type\": \"absolute\",\n",
      "  \"torch_dtype\": \"float32\",\n",
      "  \"transformers_version\": \"4.43.3\",\n",
      "  \"type_vocab_size\": 2,\n",
      "  \"use_cache\": true,\n",
      "  \"vocab_size\": 197285\n",
      "}\n",
      "\n"
     ]
    }
   ],
   "execution_count": 18
  },
  {
   "metadata": {},
   "cell_type": "code",
   "outputs": [],
   "execution_count": null,
   "source": "# Tokenize input text\n",
   "id": "3ab70215e0732dda"
  }
 ],
 "metadata": {
  "kernelspec": {
   "display_name": "Python 3",
   "language": "python",
   "name": "python3"
  },
  "language_info": {
   "codemirror_mode": {
    "name": "ipython",
    "version": 2
   },
   "file_extension": ".py",
   "mimetype": "text/x-python",
   "name": "python",
   "nbconvert_exporter": "python",
   "pygments_lexer": "ipython2",
   "version": "2.7.6"
  }
 },
 "nbformat": 4,
 "nbformat_minor": 5
}
